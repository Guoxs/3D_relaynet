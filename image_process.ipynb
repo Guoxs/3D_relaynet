{
 "cells": [
  {
   "cell_type": "code",
   "execution_count": 16,
   "metadata": {},
   "outputs": [
    {
     "name": "stdout",
     "output_type": "stream",
     "text": [
      "no picture 015.bmp\n",
      "no picture 016.bmp\n",
      "200\n"
     ]
    }
   ],
   "source": [
    "import cv2\n",
    "import numpy as np\n",
    "\n",
    "offset = 0\n",
    "for i in range(0, 71):\n",
    "    if i < 10:\n",
    "        name = '00'\n",
    "    else:\n",
    "        name = '0'\n",
    "    name += str(i) + '.bmp'\n",
    "    try:\n",
    "        img = cv2.imread(name)\n",
    "        img_new = img[offset : 512 + offset, 0 : 512]\n",
    "        offset += 6 if i < 45 else 5\n",
    "        cv2.imwrite('./new photos/new ' + name, img_new)\n",
    "    except Exception as e:\n",
    "        print('no picture ' + name)\n",
    "print(200)"
   ]
  },
  {
   "cell_type": "code",
   "execution_count": null,
   "metadata": {},
   "outputs": [],
   "source": []
  }
 ],
 "metadata": {
  "kernelspec": {
   "display_name": "python3",
   "language": "python",
   "name": "python3"
  },
  "language_info": {
   "codemirror_mode": {
    "name": "ipython",
    "version": 2
   },
   "file_extension": ".py",
   "mimetype": "text/x-python",
   "name": "python",
   "nbconvert_exporter": "python",
   "pygments_lexer": "ipython2",
   "version": "2.7.12"
  }
 },
 "nbformat": 4,
 "nbformat_minor": 2
}
