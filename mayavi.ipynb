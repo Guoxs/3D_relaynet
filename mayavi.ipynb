{
 "cells": [
  {
   "cell_type": "code",
   "execution_count": 1,
   "metadata": {
    "ExecuteTime": {
     "end_time": "2018-07-19T01:51:49.960949Z",
     "start_time": "2018-07-19T01:51:48.074294Z"
    },
    "collapsed": true
   },
   "outputs": [],
   "source": [
    "import numpy as np\n",
    "import os\n",
    "import scipy.io as sio\n",
    "from mayavi import mlab"
   ]
  },
  {
   "cell_type": "code",
   "execution_count": 2,
   "metadata": {
    "ExecuteTime": {
     "end_time": "2018-07-17T08:42:02.556471Z",
     "start_time": "2018-07-17T08:41:02.385962Z"
    },
    "collapsed": true
   },
   "outputs": [],
   "source": [
    "# Create the data.\n",
    "from numpy import pi, sin, cos, mgrid\n",
    "dphi, dtheta = pi/250.0, pi/250.0\n",
    "[phi,theta] = mgrid[0:pi+dphi*1.5:dphi,0:2*pi+dtheta*1.5:dtheta]\n",
    "m0 = 4; m1 = 3; m2 = 2; m3 = 3; m4 = 6; m5 = 2; m6 = 6; m7 = 4;\n",
    "r = sin(m0*phi)**m1 + cos(m2*phi)**m3 + sin(m4*theta)**m5 + cos(m6*theta)**m7\n",
    "x = r*sin(phi)*cos(theta)\n",
    "y = r*cos(phi)\n",
    "z = r*sin(phi)*sin(theta)\n",
    "\n",
    "# View it.\n",
    "from mayavi import mlab\n",
    "s = mlab.mesh(x, y, z)\n",
    "mlab.show()"
   ]
  },
  {
   "cell_type": "code",
   "execution_count": 4,
   "metadata": {
    "ExecuteTime": {
     "end_time": "2018-07-17T09:08:59.914090Z",
     "start_time": "2018-07-17T09:07:52.827465Z"
    },
    "collapsed": true
   },
   "outputs": [],
   "source": [
    "import numpy\n",
    "from mayavi.mlab import *\n",
    "\n",
    "def test_contour_surf():\n",
    "    \"\"\"Test contour_surf on regularly spaced co-ordinates like MayaVi.\"\"\"\n",
    "    def f(x, y):\n",
    "        sin, cos = numpy.sin, numpy.cos\n",
    "        return sin(x + y) + sin(2 * x - y) + cos(3 * x + 4 * y)\n",
    "\n",
    "    x, y = numpy.mgrid[-7.:7.05:0.1, -5.:5.05:0.05]\n",
    "    s = contour_surf(x, y, f)\n",
    "    return s      \n",
    "\n",
    "s = test_contour_surf()\n",
    "mlab.show()"
   ]
  },
  {
   "cell_type": "code",
   "execution_count": 5,
   "metadata": {
    "ExecuteTime": {
     "end_time": "2018-07-17T09:09:34.803725Z",
     "start_time": "2018-07-17T09:09:19.668613Z"
    },
    "collapsed": true
   },
   "outputs": [],
   "source": [
    "import numpy\n",
    "from mayavi.mlab import *\n",
    "\n",
    "def test_flow():\n",
    "    x, y, z = numpy.mgrid[-4:4:40j, -4:4:40j, 0:4:20j]\n",
    "    r = numpy.sqrt(x ** 2 + y ** 2 + z ** 2 + 0.1)\n",
    "    u = y * numpy.sin(r) / r\n",
    "    v = -x * numpy.sin(r) / r\n",
    "    w = numpy.ones_like(z)*0.05\n",
    "    obj = flow(u, v, w)\n",
    "    return obj\n",
    "\n",
    "s = test_flow()\n",
    "mlab.show()"
   ]
  },
  {
   "cell_type": "code",
   "execution_count": 6,
   "metadata": {
    "ExecuteTime": {
     "end_time": "2018-07-17T09:10:44.875914Z",
     "start_time": "2018-07-17T09:10:34.043703Z"
    },
    "collapsed": true
   },
   "outputs": [],
   "source": [
    "import numpy\n",
    "from mayavi.mlab import *\n",
    "\n",
    "def test_plot3d():\n",
    "    \"\"\"Generates a pretty set of lines.\"\"\"\n",
    "    n_mer, n_long = 6, 11\n",
    "    pi = numpy.pi\n",
    "    dphi = pi / 1000.0\n",
    "    phi = numpy.arange(0.0, 2 * pi + 0.5 * dphi, dphi)\n",
    "    mu = phi * n_mer\n",
    "    x = numpy.cos(mu) * (1 + numpy.cos(n_long * mu / n_mer) * 0.5)\n",
    "    y = numpy.sin(mu) * (1 + numpy.cos(n_long * mu / n_mer) * 0.5)\n",
    "    z = numpy.sin(n_long * mu / n_mer) * 0.5\n",
    "\n",
    "    l = plot3d(x, y, z, numpy.sin(mu), tube_radius=0.025, colormap='Spectral')\n",
    "    return l\n",
    "\n",
    "s = test_plot3d()\n",
    "mlab.show()"
   ]
  },
  {
   "cell_type": "code",
   "execution_count": 7,
   "metadata": {
    "ExecuteTime": {
     "end_time": "2018-07-17T10:10:51.485802Z",
     "start_time": "2018-07-17T10:09:52.733287Z"
    },
    "collapsed": true
   },
   "outputs": [],
   "source": [
    "import numpy\n",
    "from mayavi.mlab import *\n",
    "\n",
    "def test_points3d():\n",
    "    t = numpy.linspace(0, 4 * numpy.pi, 20)\n",
    "    cos = numpy.cos\n",
    "    sin = numpy.sin\n",
    "\n",
    "    x = sin(2 * t)\n",
    "    y = cos(t)\n",
    "    z = cos(2 * t)\n",
    "    s = 2 + sin(t)\n",
    "\n",
    "    return points3d(x, y, z, s, colormap=\"copper\", scale_factor=.25)\n",
    "\n",
    "s = test_points3d()\n",
    "mlab.show()"
   ]
  },
  {
   "cell_type": "code",
   "execution_count": 8,
   "metadata": {
    "ExecuteTime": {
     "end_time": "2018-07-17T10:11:50.447655Z",
     "start_time": "2018-07-17T10:11:09.813036Z"
    },
    "collapsed": true
   },
   "outputs": [],
   "source": [
    "import numpy\n",
    "from mayavi.mlab import *\n",
    "\n",
    "def test_quiver3d():\n",
    "    x, y, z = numpy.mgrid[-2:3, -2:3, -2:3]\n",
    "    r = numpy.sqrt(x ** 2 + y ** 2 + z ** 4)\n",
    "    u = y * numpy.sin(r) / (r + 0.001)\n",
    "    v = -x * numpy.sin(r) / (r + 0.001)\n",
    "    w = numpy.zeros_like(z)\n",
    "    obj = quiver3d(x, y, z, u, v, w, line_width=3, scale_factor=1)\n",
    "    return obj\n",
    "\n",
    "s = test_quiver3d()\n",
    "mlab.show()"
   ]
  },
  {
   "cell_type": "code",
   "execution_count": 9,
   "metadata": {
    "ExecuteTime": {
     "end_time": "2018-07-17T10:13:38.397891Z",
     "start_time": "2018-07-17T10:12:55.757125Z"
    },
    "collapsed": true
   },
   "outputs": [],
   "source": [
    "import numpy\n",
    "from mayavi.mlab import *\n",
    "\n",
    "def test_surf():\n",
    "    \"\"\"Test surf on regularly spaced co-ordinates like MayaVi.\"\"\"\n",
    "    def f(x, y):\n",
    "        sin, cos = numpy.sin, numpy.cos\n",
    "        return sin(x + y) + sin(2 * x - y) + cos(3 * x + 4 * y)\n",
    "\n",
    "    x, y = numpy.mgrid[-7.:7.05:0.1, -5.:5.05:0.05]\n",
    "    s = surf(x, y, f)\n",
    "    #cs = contour_surf(x, y, f, contour_z=0)\n",
    "    return s\n",
    "\n",
    "s = test_surf()\n",
    "mlab.show()"
   ]
  },
  {
   "cell_type": "code",
   "execution_count": 10,
   "metadata": {
    "ExecuteTime": {
     "end_time": "2018-07-17T10:14:20.950531Z",
     "start_time": "2018-07-17T10:14:05.109298Z"
    },
    "collapsed": true
   },
   "outputs": [],
   "source": [
    "import numpy\n",
    "from mayavi.mlab import *\n",
    "\n",
    "def test_triangular_mesh():\n",
    "    \"\"\"An example of a cone, ie a non-regular mesh defined by its\n",
    "        triangles.\n",
    "    \"\"\"\n",
    "    n = 8\n",
    "    t = numpy.linspace(-numpy.pi, numpy.pi, n)\n",
    "    z = numpy.exp(1j * t)\n",
    "    x = z.real.copy()\n",
    "    y = z.imag.copy()\n",
    "    z = numpy.zeros_like(x)\n",
    "\n",
    "    triangles = [(0, i, i + 1) for i in range(1, n)]\n",
    "    x = numpy.r_[0, x]\n",
    "    y = numpy.r_[0, y]\n",
    "    z = numpy.r_[1, z]\n",
    "    t = numpy.r_[0, t]\n",
    "\n",
    "    return triangular_mesh(x, y, z, triangles, scalars=t)\n",
    "\n",
    "s = test_triangular_mesh()\n",
    "mlab.show()"
   ]
  },
  {
   "cell_type": "code",
   "execution_count": 3,
   "metadata": {
    "ExecuteTime": {
     "end_time": "2018-07-19T01:50:51.355851Z",
     "start_time": "2018-07-19T01:50:48.115808Z"
    }
   },
   "outputs": [],
   "source": [
    "import numpy as np\n",
    "x, y, z = np.ogrid[-10:10:20j, -10:10:20j, -10:10:20j]\n",
    "s = np.sin(x*y*z)/(x*y*z)\n",
    "mlab.contour3d(s)\n",
    "mlab.show()"
   ]
  },
  {
   "cell_type": "code",
   "execution_count": 18,
   "metadata": {
    "ExecuteTime": {
     "end_time": "2018-07-19T02:22:26.769653Z",
     "start_time": "2018-07-19T02:22:15.133423Z"
    }
   },
   "outputs": [],
   "source": [
    "import numpy as np\n",
    "x, y, z = np.mgrid[0:1:20j, 0:1:20j, 0:1:20j]\n",
    "\n",
    "u =    np.sin(np.pi*x) * np.cos(np.pi*z)\n",
    "v = -2*np.sin(np.pi*y) * np.cos(2*np.pi*z)\n",
    "w = np.cos(np.pi*x)*np.sin(np.pi*z) + np.cos(np.pi*y)*np.sin(2*np.pi*z)\n",
    "\n",
    "\n",
    "src = mlab.quiver3d(u, v, w)\n",
    "#mlab.pipeline.vectors(src, mask_points=20, scale_factor=3.)\n",
    "#mlab.pipeline.vector_cut_plane(src, mask_points=2, scale_factor=3)\n",
    "magnitude = mlab.pipeline.extract_vector_norm(src)\n",
    "mlab.pipeline.iso_surface(magnitude, contours=[1.9, 0.5])\n",
    "mlab.show()"
   ]
  },
  {
   "cell_type": "code",
   "execution_count": null,
   "metadata": {
    "collapsed": true
   },
   "outputs": [],
   "source": []
  }
 ],
 "metadata": {
  "kernelspec": {
   "display_name": "Python 3",
   "language": "python",
   "name": "python3"
  },
  "language_info": {
   "codemirror_mode": {
    "name": "ipython",
    "version": 3
   },
   "file_extension": ".py",
   "mimetype": "text/x-python",
   "name": "python",
   "nbconvert_exporter": "python",
   "pygments_lexer": "ipython3",
   "version": "3.6.2"
  }
 },
 "nbformat": 4,
 "nbformat_minor": 2
}
